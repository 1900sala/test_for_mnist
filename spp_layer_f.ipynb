{
 "cells": [
  {
   "cell_type": "code",
   "execution_count": null,
   "metadata": {},
   "outputs": [],
   "source": [
    "import tensorflow as tf\n",
    "import math\n",
    "\n",
    "class SPPLayer():\n",
    "    def __init__(self,bins,feature_map_size):\n",
    "        self.strides = []\n",
    "        self.filters = []\n",
    "#        print(type(feature_map_size))\n",
    "        self.a = float(feature_map_size)\n",
    "        self.bins = bins\n",
    "        self.n = len(bins)\n",
    "\n",
    "    def spatial_pyramid_pooling(self,data):\n",
    "        self.input = data\n",
    "        self.batch_size = self.input.get_shape().as_list()[0]\n",
    "        for i in range(self.n):\n",
    "            x = int(math.floor(self.a/float(self.bins[i])))\n",
    "            self.strides.append(x)\n",
    "            x = int (math.ceil(self.a/float(self.bins[i])))\n",
    "            self.filters.append(x)\n",
    "\n",
    "        self.pooled_out = []\n",
    "        for i in range(self.n):\n",
    "            self.pooled_out.append(tf.nn.max_pool(self.input,\n",
    "                ksize=[1, self.filters[i], self.filters[i], 1], \n",
    "                strides=[1, self.strides[i], self.strides[i], 1],\n",
    "                padding='VALID'))\n",
    "\n",
    "        for i in range(self.n):\n",
    "            self.pooled_out[i] = tf.reshape(self.pooled_out[i], [self.batch_size, -1])\n",
    "        \n",
    "        self.output = tf.concat(1, [self.pooled_out[0], self.pooled_out[1], self.pooled_out[2]])\n",
    "\n",
    "        return self.output"
   ]
  }
 ],
 "metadata": {
  "kernelspec": {
   "display_name": "Python 3",
   "language": "python",
   "name": "python3"
  },
  "language_info": {
   "codemirror_mode": {
    "name": "ipython",
    "version": 3.0
   },
   "file_extension": ".py",
   "mimetype": "text/x-python",
   "name": "python",
   "nbconvert_exporter": "python",
   "pygments_lexer": "ipython3",
   "version": "3.6.1"
  }
 },
 "nbformat": 4,
 "nbformat_minor": 2
}